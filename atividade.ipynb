{
 "cells": [
  {
   "cell_type": "code",
   "execution_count": 6,
   "metadata": {},
   "outputs": [],
   "source": [
    "num1 = 10\n",
    "num2 = 5\n",
    "nota1 = 7.5\n",
    "nota2 = 6.0\n",
    "nota3 = 8.0"
   ]
  },
  {
   "cell_type": "code",
   "execution_count": 7,
   "metadata": {},
   "outputs": [
    {
     "name": "stdout",
     "output_type": "stream",
     "text": [
      "Soma: 15\n"
     ]
    }
   ],
   "source": [
    "num1 = 10\n",
    "num2 = 5\n",
    "print(\"Soma:\", num1 + num2)\n"
   ]
  },
  {
   "cell_type": "code",
   "execution_count": 8,
   "metadata": {},
   "outputs": [
    {
     "name": "stdout",
     "output_type": "stream",
     "text": [
      "Multiplicação: 50\n"
     ]
    }
   ],
   "source": [
    "print(\"Multiplicação:\", num1 * num2)\n"
   ]
  },
  {
   "cell_type": "code",
   "execution_count": 9,
   "metadata": {},
   "outputs": [
    {
     "name": "stdout",
     "output_type": "stream",
     "text": [
      "Média das notas: 7.166666666666667\n"
     ]
    }
   ],
   "source": [
    "nota1 = 7.5\n",
    "nota2 = 6.0\n",
    "nota3 = 8.0\n",
    "media = (nota1 + nota2 + nota3) / 3\n",
    "print(\"Média das notas:\", media)\n"
   ]
  },
  {
   "cell_type": "code",
   "execution_count": null,
   "metadata": {},
   "outputs": [
    {
     "name": "stdout",
     "output_type": "stream",
     "text": [
      "num1 é positivo\n"
     ]
    }
   ],
   "source": [
    "if num1 > 0:\n",
    "    print(\"num1 é positivo\")\n",
    "else:\n",
    "    print(\"num1 é negativo\")\n"
   ]
  },
  {
   "cell_type": "code",
   "execution_count": null,
   "metadata": {},
   "outputs": [
    {
     "name": "stdout",
     "output_type": "stream",
     "text": [
      "num2 é ímpar\n"
     ]
    }
   ],
   "source": [
    "if num2 % 2 == 0:\n",
    "    print(\"num2 é par\")\n",
    "else:\n",
    "    print(\"num2 é ímpar\")\n"
   ]
  },
  {
   "cell_type": "code",
   "execution_count": null,
   "metadata": {},
   "outputs": [
    {
     "name": "stdout",
     "output_type": "stream",
     "text": [
      "Aprovado\n"
     ]
    }
   ],
   "source": [
    "if media >= 6.0:\n",
    "    print(\"Aprovado\")\n",
    "elif 4.0 <= media < 6.0:\n",
    "    print(\"Recuperação\")\n",
    "else:\n",
    "    print(\"Reprovado\")\n"
   ]
  },
  {
   "cell_type": "code",
   "execution_count": null,
   "metadata": {},
   "outputs": [
    {
     "name": "stdout",
     "output_type": "stream",
     "text": [
      "Adulto\n"
     ]
    }
   ],
   "source": [
    "idade = 25\n",
    "if idade < 12:\n",
    "    print(\"Criança\")\n",
    "elif 12 <= idade < 18:\n",
    "    print(\"Adolescente\")\n",
    "elif 18 <= idade < 60:\n",
    "    print(\"Adulto\")\n",
    "else:\n",
    "    print(\"Idoso\")\n"
   ]
  },
  {
   "cell_type": "code",
   "execution_count": null,
   "metadata": {},
   "outputs": [
    {
     "name": "stdout",
     "output_type": "stream",
     "text": [
      "1\n",
      "2\n",
      "3\n",
      "4\n",
      "5\n",
      "6\n",
      "7\n",
      "8\n",
      "9\n",
      "10\n"
     ]
    }
   ],
   "source": [
    "num = 1\n",
    "while num <= 10:\n",
    "    print(num)\n",
    "    num += 1\n"
   ]
  },
  {
   "cell_type": "code",
   "execution_count": null,
   "metadata": {},
   "outputs": [
    {
     "name": "stdout",
     "output_type": "stream",
     "text": [
      "1\n",
      "2\n",
      "3\n",
      "4\n",
      "5\n",
      "6\n",
      "7\n",
      "8\n",
      "9\n",
      "10\n"
     ]
    }
   ],
   "source": [
    "for num in range(1, 11):\n",
    "    print(num)\n"
   ]
  },
  {
   "cell_type": "code",
   "execution_count": null,
   "metadata": {},
   "outputs": [
    {
     "name": "stdout",
     "output_type": "stream",
     "text": [
      "10 x 1 = 10\n",
      "10 x 2 = 20\n",
      "10 x 3 = 30\n",
      "10 x 4 = 40\n",
      "10 x 5 = 50\n",
      "10 x 6 = 60\n",
      "10 x 7 = 70\n",
      "10 x 8 = 80\n",
      "10 x 9 = 90\n",
      "10 x 10 = 100\n"
     ]
    }
   ],
   "source": [
    "for i in range(1, 11):\n",
    "    print(f\"{num1} x {i} = {num1 * i}\")\n"
   ]
  },
  {
   "cell_type": "code",
   "execution_count": null,
   "metadata": {},
   "outputs": [
    {
     "name": "stdout",
     "output_type": "stream",
     "text": [
      "0\n",
      "10\n",
      "20\n",
      "30\n",
      "40\n",
      "50\n",
      "60\n",
      "70\n",
      "80\n",
      "90\n",
      "100\n"
     ]
    }
   ],
   "source": [
    "num = 0\n",
    "while num <= 100:\n",
    "    print(num)\n",
    "    num += 10\n"
   ]
  },
  {
   "cell_type": "code",
   "execution_count": null,
   "metadata": {},
   "outputs": [
    {
     "name": "stdout",
     "output_type": "stream",
     "text": [
      "0\n",
      "2\n",
      "4\n",
      "6\n",
      "8\n",
      "10\n",
      "12\n",
      "14\n",
      "16\n",
      "18\n",
      "20\n"
     ]
    }
   ],
   "source": [
    "for num in range(0, 21, 2):\n",
    "    print(num)\n"
   ]
  },
  {
   "cell_type": "code",
   "execution_count": null,
   "metadata": {},
   "outputs": [
    {
     "name": "stdout",
     "output_type": "stream",
     "text": [
      "25°C = 77.0°F\n"
     ]
    }
   ],
   "source": [
    "def celsius_para_fahrenheit(celsius):\n",
    "    return celsius * 1.8 + 32\n",
    "\n",
    "temperatura_celsius = 25\n",
    "temperatura_fahrenheit = celsius_para_fahrenheit(temperatura_celsius)\n",
    "print(f\"{temperatura_celsius}°C = {temperatura_fahrenheit}°F\")\n"
   ]
  },
  {
   "cell_type": "code",
   "execution_count": null,
   "metadata": {},
   "outputs": [
    {
     "name": "stdout",
     "output_type": "stream",
     "text": [
      "20.0 - 30.0 = -10.0\n"
     ]
    }
   ],
   "source": [
    "def calculadora():\n",
    "    num1 = float(input(\"Digite o primeiro número: \"))\n",
    "    num2 = float(input(\"Digite o segundo número: \"))\n",
    "    operacao = input(\"Escolha a operação (+, -, *, /): \")\n",
    "    \n",
    "    if operacao == \"+\":\n",
    "        print(f\"{num1} + {num2} = {num1 + num2}\")\n",
    "    elif operacao == \"-\":\n",
    "        print(f\"{num1} - {num2} = {num1 - num2}\")\n",
    "    elif operacao == \"*\":\n",
    "        print(f\"{num1} * {num2} = {num1 * num2}\")\n",
    "    elif operacao == \"/\":\n",
    "        if num2 != 0:\n",
    "            print(f\"{num1} / {num2} = {num1 / num2}\")\n",
    "        else:\n",
    "            print(\"Erro! Divisão por zero.\")\n",
    "    else:\n",
    "        print(\"Operação inválida.\")\n",
    "\n",
    "calculadora()\n"
   ]
  }
 ],
 "metadata": {
  "kernelspec": {
   "display_name": "Python 3",
   "language": "python",
   "name": "python3"
  },
  "language_info": {
   "codemirror_mode": {
    "name": "ipython",
    "version": 3
   },
   "file_extension": ".py",
   "mimetype": "text/x-python",
   "name": "python",
   "nbconvert_exporter": "python",
   "pygments_lexer": "ipython3",
   "version": "3.10.2"
  }
 },
 "nbformat": 4,
 "nbformat_minor": 2
}
